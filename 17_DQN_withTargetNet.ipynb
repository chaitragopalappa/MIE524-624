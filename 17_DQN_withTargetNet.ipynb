{
  "nbformat": 4,
  "nbformat_minor": 0,
  "metadata": {
    "colab": {
      "provenance": []
    },
    "kernelspec": {
      "name": "python3",
      "display_name": "Python 3"
    },
    "language_info": {
      "name": "python"
    }
  },
  "cells": [
    {
      "cell_type": "code",
      "source": [],
      "metadata": {
        "id": "UcJJ4VwRcHpI"
      },
      "execution_count": null,
      "outputs": []
    },
    {
      "cell_type": "code",
      "source": [],
      "metadata": {
        "id": "TXxN4lv_c_ga"
      },
      "execution_count": null,
      "outputs": []
    },
    {
      "cell_type": "code",
      "execution_count": 1,
      "metadata": {
        "colab": {
          "base_uri": "https://localhost:8080/"
        },
        "id": "DB4402pRNUJe",
        "outputId": "17bed965-6527-43ad-b3b0-c97a4f5a28a7"
      },
      "outputs": [
        {
          "output_type": "stream",
          "name": "stderr",
          "text": [
            "/usr/local/lib/python3.11/dist-packages/gym/core.py:317: DeprecationWarning: \u001b[33mWARN: Initializing wrapper in old step API which returns one bool instead of two. It is recommended to set `new_step_api=True` to use new step API. This will be the default behaviour in future.\u001b[0m\n",
            "  deprecation(\n",
            "/usr/local/lib/python3.11/dist-packages/gym/wrappers/step_api_compatibility.py:39: DeprecationWarning: \u001b[33mWARN: Initializing environment in old step API which returns one bool instead of two. It is recommended to set `new_step_api=True` to use new step API. This will be the default behaviour in future.\u001b[0m\n",
            "  deprecation(\n"
          ]
        }
      ],
      "source": [
        "# -*- coding: utf-8 -*-\n",
        "\"\"\"\n",
        "Created on Wed Nov  8 14:06:40 2023\n",
        "@author: chaitrag\n",
        "\"\"\"\n",
        "import gym\n",
        "from IPython import display\n",
        "import matplotlib.pyplot as plt\n",
        "%matplotlib inline\n",
        "import gym\n",
        "import numpy as np\n",
        "import torch\n",
        "import torch.nn as nn\n",
        "import torch.optim as optim\n",
        "import random\n",
        "from torch.utils.tensorboard import SummaryWriter\n",
        "\n",
        "ENV_NAME_2= \"CartPole-v1\"\n",
        "input_dim =4\n",
        "#ENV_NAME_3 = \"MountainCar-v0\"\n",
        "#input_dim=2\n",
        "\n",
        "env = gym.make(ENV_NAME_2)#, render_mode=\"human\")\n",
        "\n",
        "# Define hyperparameters\n",
        "gamma = 0.99\n",
        "epsilon = 1.0\n",
        "epsilon_min = 0.01\n",
        "epsilon_decay = 0.995\n",
        "learning_rate = 0.01\n",
        "batch_size = 64\n",
        "memory_size = 10000\n",
        "episode_length = 200\n",
        "target_update_frequency = 10  # Update the target network every N episodes\n",
        "\n",
        "# Define the Q-network\n",
        "class QNetwork(nn.Module):\n",
        "    def __init__(self, input_dim, output_dim):\n",
        "        super(QNetwork, self).__init__()\n",
        "        self.fc1 = nn.Linear(input_dim, 64)\n",
        "        self.fc2 = nn.Linear(64, 64)\n",
        "        self.fc3 = nn.Linear(64, output_dim)\n",
        "\n",
        "    def forward(self, x):\n",
        "        x = torch.relu(self.fc1(x))\n",
        "        x = torch.relu(self.fc2(x))\n",
        "        return self.fc3(x)"
      ]
    },
    {
      "cell_type": "code",
      "source": [
        "# Create both the main and target networks\n",
        "input_dim = input_dim\n",
        "output_dim = env.action_space.n\n",
        "main_network = QNetwork(input_dim, output_dim)\n",
        "target_network = QNetwork(input_dim, output_dim)\n",
        "target_network.load_state_dict(main_network.state_dict())  # Initialize target network with main network's weights\n",
        "optimizer = optim.Adam(main_network.parameters(), lr=learning_rate)\n",
        "\n",
        "# Initialize replay memory\n",
        "replay_memory = []\n",
        "\n",
        "# Function to choose an action\n",
        "def choose_action(state):\n",
        "    if np.random.rand() <= epsilon:\n",
        "        return env.action_space.sample()\n",
        "    else:\n",
        "        q_values = main_network(torch.Tensor(state))\n",
        "        return torch.argmax(q_values).item()\n",
        "def get_Q_network_output(state):\n",
        "    return main_network(torch.Tensor(state))"
      ],
      "metadata": {
        "id": "xUMLqxV8ijWb"
      },
      "execution_count": 2,
      "outputs": []
    },
    {
      "cell_type": "code",
      "source": [
        "epsilon = 1.0\n",
        "# Main training loop\n",
        "num_episodes = 100\n",
        "writer = SummaryWriter()\n",
        "for episode in range(num_episodes):\n",
        "    state = env.reset()\n",
        "    total_reward = 0\n",
        "\n",
        "    for t in range(episode_length):\n",
        "        action = choose_action(state)\n",
        "        next_state, reward, done, _ = env.step(action)\n",
        "        total_reward += reward\n",
        "\n",
        "        replay_memory.append((state, action, reward, next_state, done))#store experiences into replay memory\n",
        "        state = next_state\n",
        "\n",
        "        if done:\n",
        "            #print(f\"Episode: {episode + 1}, Total Reward: {total_reward}, Epsilon: {epsilon}\")\n",
        "            writer.add_scalar(\"Loss/train\", loss, episode)\n",
        "            writer.add_scalar(\"Total reward\", total_reward,episode)\n",
        "            writer.add_scalar(\"epsilon\", epsilon, episode)\n",
        "            break\n",
        "\n",
        "        if len(replay_memory) >= batch_size:\n",
        "            batch = random.sample(replay_memory, batch_size)\n",
        "\n",
        "            for state_batch, action_batch, reward_batch, next_state_batch, done_batch in batch:\n",
        "                state_batch = torch.Tensor(state_batch)\n",
        "                next_state_batch = torch.Tensor(next_state_batch)\n",
        "\n",
        "                q_values = main_network(state_batch)\n",
        "                target = q_values.clone().detach()\n",
        "\n",
        "                if not done_batch:\n",
        "                    target[action_batch] = reward_batch + gamma * torch.max(target_network(next_state_batch))\n",
        "                else:\n",
        "                    target[action_batch] = reward_batch\n",
        "\n",
        "                loss = nn.MSELoss()(q_values, target)\n",
        "                optimizer.zero_grad()\n",
        "                loss.backward()\n",
        "                optimizer.step()\n",
        "            # Decay exploration rate\n",
        "            if epsilon > epsilon_min:\n",
        "               epsilon *= epsilon_decay\n",
        "    print(f\"Episode: {episode + 1}, Total Reward: {total_reward}, Epsilon: {epsilon}\")\n",
        "\n",
        "    # Update the target network\n",
        "    if episode % target_update_frequency == 0:\n",
        "        target_network.load_state_dict(main_network.state_dict())\n",
        "writer.close()\n",
        "%load_ext tensorboard"
      ],
      "metadata": {
        "colab": {
          "base_uri": "https://localhost:8080/"
        },
        "id": "-4RcpUaWizwe",
        "outputId": "05cfba08-2b4f-49d4-a6e9-0fd6f7c27c9c"
      },
      "execution_count": 7,
      "outputs": [
        {
          "output_type": "stream",
          "name": "stdout",
          "text": [
            "Episode: 1, Total Reward: 27.0, Epsilon: 0.9229311239742362\n",
            "Episode: 2, Total Reward: 19.0, Epsilon: 0.8433051360508336\n",
            "Episode: 3, Total Reward: 17.0, Epsilon: 0.778312557068642\n",
            "Episode: 4, Total Reward: 19.0, Epsilon: 0.7111635524897149\n",
            "Episode: 5, Total Reward: 22.0, Epsilon: 0.6401093727576664\n",
            "Episode: 6, Total Reward: 19.0, Epsilon: 0.5848838636585911\n",
            "Episode: 7, Total Reward: 17.0, Epsilon: 0.5398075216808175\n",
            "Episode: 8, Total Reward: 40.0, Epsilon: 0.4439551321314536\n",
            "Episode: 9, Total Reward: 52.0, Epsilon: 0.3438081748424137\n",
            "Episode: 10, Total Reward: 10.0, Epsilon: 0.32864265128599696\n",
            "Episode: 11, Total Reward: 12.0, Epsilon: 0.31101247816653554\n",
            "Episode: 12, Total Reward: 22.0, Epsilon: 0.2799384215094006\n",
            "Episode: 13, Total Reward: 25.0, Epsilon: 0.24820838415550486\n",
            "Episode: 14, Total Reward: 22.0, Epsilon: 0.22340924607110255\n",
            "Episode: 15, Total Reward: 30.0, Epsilon: 0.19318370215794672\n",
            "Episode: 16, Total Reward: 90.0, Epsilon: 0.12365869841532712\n",
            "Episode: 17, Total Reward: 12.0, Epsilon: 0.11702497557911415\n",
            "Episode: 18, Total Reward: 18.0, Epsilon: 0.10746596228306791\n",
            "Episode: 19, Total Reward: 15.0, Epsilon: 0.10018300685223579\n",
            "Episode: 20, Total Reward: 28.0, Epsilon: 0.08750185146499175\n",
            "Episode: 21, Total Reward: 32.0, Epsilon: 0.07490878371492794\n",
            "Episode: 22, Total Reward: 33.0, Epsilon: 0.06380744126877576\n",
            "Episode: 23, Total Reward: 10.0, Epsilon: 0.0609928681304848\n",
            "Episode: 24, Total Reward: 26.0, Epsilon: 0.05380914294022049\n",
            "Episode: 25, Total Reward: 50.0, Epsilon: 0.04209078556329156\n",
            "Episode: 26, Total Reward: 32.0, Epsilon: 0.036033175291307735\n",
            "Episode: 27, Total Reward: 26.0, Epsilon: 0.03178919665971424\n",
            "Episode: 28, Total Reward: 19.0, Epsilon: 0.02904658009432929\n",
            "Episode: 29, Total Reward: 63.0, Epsilon: 0.02128756625768776\n",
            "Episode: 30, Total Reward: 20.0, Epsilon: 0.019353724157029815\n",
            "Episode: 31, Total Reward: 39.0, Epsilon: 0.015997113097568336\n",
            "Episode: 32, Total Reward: 43.0, Epsilon: 0.012960179199743523\n",
            "Episode: 33, Total Reward: 37.0, Epsilon: 0.010820365061092144\n",
            "Episode: 34, Total Reward: 25.0, Epsilon: 0.00998645168764533\n",
            "Episode: 35, Total Reward: 161.0, Epsilon: 0.00998645168764533\n",
            "Episode: 36, Total Reward: 134.0, Epsilon: 0.00998645168764533\n",
            "Episode: 37, Total Reward: 133.0, Epsilon: 0.00998645168764533\n",
            "Episode: 38, Total Reward: 96.0, Epsilon: 0.00998645168764533\n",
            "Episode: 39, Total Reward: 41.0, Epsilon: 0.00998645168764533\n",
            "Episode: 40, Total Reward: 96.0, Epsilon: 0.00998645168764533\n",
            "Episode: 41, Total Reward: 131.0, Epsilon: 0.00998645168764533\n",
            "Episode: 42, Total Reward: 182.0, Epsilon: 0.00998645168764533\n",
            "Episode: 43, Total Reward: 50.0, Epsilon: 0.00998645168764533\n",
            "Episode: 44, Total Reward: 121.0, Epsilon: 0.00998645168764533\n",
            "Episode: 45, Total Reward: 64.0, Epsilon: 0.00998645168764533\n",
            "Episode: 46, Total Reward: 120.0, Epsilon: 0.00998645168764533\n",
            "Episode: 47, Total Reward: 36.0, Epsilon: 0.00998645168764533\n",
            "Episode: 48, Total Reward: 80.0, Epsilon: 0.00998645168764533\n",
            "Episode: 49, Total Reward: 61.0, Epsilon: 0.00998645168764533\n",
            "Episode: 50, Total Reward: 90.0, Epsilon: 0.00998645168764533\n",
            "Episode: 51, Total Reward: 32.0, Epsilon: 0.00998645168764533\n",
            "Episode: 52, Total Reward: 134.0, Epsilon: 0.00998645168764533\n",
            "Episode: 53, Total Reward: 44.0, Epsilon: 0.00998645168764533\n",
            "Episode: 54, Total Reward: 165.0, Epsilon: 0.00998645168764533\n",
            "Episode: 55, Total Reward: 107.0, Epsilon: 0.00998645168764533\n",
            "Episode: 56, Total Reward: 140.0, Epsilon: 0.00998645168764533\n",
            "Episode: 57, Total Reward: 55.0, Epsilon: 0.00998645168764533\n",
            "Episode: 58, Total Reward: 158.0, Epsilon: 0.00998645168764533\n",
            "Episode: 59, Total Reward: 10.0, Epsilon: 0.00998645168764533\n",
            "Episode: 60, Total Reward: 165.0, Epsilon: 0.00998645168764533\n",
            "Episode: 61, Total Reward: 115.0, Epsilon: 0.00998645168764533\n",
            "Episode: 62, Total Reward: 157.0, Epsilon: 0.00998645168764533\n",
            "Episode: 63, Total Reward: 102.0, Epsilon: 0.00998645168764533\n",
            "Episode: 64, Total Reward: 48.0, Epsilon: 0.00998645168764533\n",
            "Episode: 65, Total Reward: 168.0, Epsilon: 0.00998645168764533\n",
            "Episode: 66, Total Reward: 93.0, Epsilon: 0.00998645168764533\n",
            "Episode: 67, Total Reward: 105.0, Epsilon: 0.00998645168764533\n",
            "Episode: 68, Total Reward: 111.0, Epsilon: 0.00998645168764533\n",
            "Episode: 69, Total Reward: 18.0, Epsilon: 0.00998645168764533\n",
            "Episode: 70, Total Reward: 41.0, Epsilon: 0.00998645168764533\n",
            "Episode: 71, Total Reward: 173.0, Epsilon: 0.00998645168764533\n",
            "Episode: 72, Total Reward: 131.0, Epsilon: 0.00998645168764533\n",
            "Episode: 73, Total Reward: 133.0, Epsilon: 0.00998645168764533\n",
            "Episode: 74, Total Reward: 90.0, Epsilon: 0.00998645168764533\n",
            "Episode: 75, Total Reward: 153.0, Epsilon: 0.00998645168764533\n",
            "Episode: 76, Total Reward: 64.0, Epsilon: 0.00998645168764533\n",
            "Episode: 77, Total Reward: 55.0, Epsilon: 0.00998645168764533\n",
            "Episode: 78, Total Reward: 103.0, Epsilon: 0.00998645168764533\n",
            "Episode: 79, Total Reward: 199.0, Epsilon: 0.00998645168764533\n",
            "Episode: 80, Total Reward: 46.0, Epsilon: 0.00998645168764533\n",
            "Episode: 81, Total Reward: 200.0, Epsilon: 0.00998645168764533\n",
            "Episode: 82, Total Reward: 86.0, Epsilon: 0.00998645168764533\n",
            "Episode: 83, Total Reward: 175.0, Epsilon: 0.00998645168764533\n",
            "Episode: 84, Total Reward: 117.0, Epsilon: 0.00998645168764533\n",
            "Episode: 85, Total Reward: 90.0, Epsilon: 0.00998645168764533\n",
            "Episode: 86, Total Reward: 152.0, Epsilon: 0.00998645168764533\n",
            "Episode: 87, Total Reward: 94.0, Epsilon: 0.00998645168764533\n",
            "Episode: 88, Total Reward: 81.0, Epsilon: 0.00998645168764533\n",
            "Episode: 89, Total Reward: 161.0, Epsilon: 0.00998645168764533\n",
            "Episode: 90, Total Reward: 190.0, Epsilon: 0.00998645168764533\n",
            "Episode: 91, Total Reward: 169.0, Epsilon: 0.00998645168764533\n",
            "Episode: 92, Total Reward: 79.0, Epsilon: 0.00998645168764533\n",
            "Episode: 93, Total Reward: 195.0, Epsilon: 0.00998645168764533\n",
            "Episode: 94, Total Reward: 192.0, Epsilon: 0.00998645168764533\n",
            "Episode: 95, Total Reward: 133.0, Epsilon: 0.00998645168764533\n",
            "Episode: 96, Total Reward: 86.0, Epsilon: 0.00998645168764533\n",
            "Episode: 97, Total Reward: 200.0, Epsilon: 0.00998645168764533\n",
            "Episode: 98, Total Reward: 42.0, Epsilon: 0.00998645168764533\n",
            "Episode: 99, Total Reward: 115.0, Epsilon: 0.00998645168764533\n",
            "Episode: 100, Total Reward: 165.0, Epsilon: 0.00998645168764533\n"
          ]
        }
      ]
    },
    {
      "cell_type": "code",
      "source": [
        "%tensorboard --logdir runs"
      ],
      "metadata": {
        "id": "S1ZKSttyhZRB"
      },
      "execution_count": null,
      "outputs": []
    },
    {
      "cell_type": "code",
      "source": [
        "# Test - with vizualization\n",
        "!apt-get install python-opengl -y\n",
        "!apt install xvfb -y\n",
        "!pip install pyvirtualdisplay\n",
        "!pip install piglet\n",
        "from pyvirtualdisplay import Display\n",
        "Display().start()\n",
        "\n",
        "epsilon = 0\n",
        "TEST_EPISODES=10\n",
        "total_reward = 0\n",
        "img = plt.imshow(env.render('rgb_array')) # only call this once\n",
        "for test_episode in range(TEST_EPISODES):\n",
        "    state = env.reset()\n",
        "    while True:\n",
        "        img.set_data(env.render('rgb_array')) # just update the data\n",
        "        display.display(plt.gcf())\n",
        "        display.clear_output(wait=True)\n",
        "        action = choose_action(state)\n",
        "        next_state, reward, done, _ = env.step(action)\n",
        "        state = next_state\n",
        "        total_reward += reward\n",
        "        if done:\n",
        "            #print(f\"Episode: {test_episode + 1}, Total Reward: {total_reward}, Epsilon: {epsilon}\")\n",
        "            break\n",
        "average_reward = total_reward / TEST_EPISODES\n",
        "print(f\"Total reward:{average_reward} \")\n",
        "if average_reward > 200:\n",
        "    print (\"Good job: Total reward exceeded threshold of 200\")\n",
        "else:\n",
        "    print (\"You can do better: Total reward did not exceed threshold of 200\")\n",
        "#Threshold for reward for cart_pole_v1 500\n",
        "env.close()"
      ],
      "metadata": {
        "colab": {
          "base_uri": "https://localhost:8080/",
          "height": 431
        },
        "id": "9o4X5SmANyh7",
        "outputId": "e05dbdac-1d48-4d41-c286-7c66e9d4aae4"
      },
      "execution_count": 11,
      "outputs": [
        {
          "output_type": "stream",
          "name": "stdout",
          "text": [
            "Total reward:61.8 \n",
            "You can do better: Total reward did not exceed threshold of 500\n"
          ]
        },
        {
          "output_type": "display_data",
          "data": {
            "text/plain": [
              "<Figure size 640x480 with 1 Axes>"
            ],
            "image/png": "[encoded data removed]"
          },
          "metadata": {}
        }
      ]
    }
  ]
}